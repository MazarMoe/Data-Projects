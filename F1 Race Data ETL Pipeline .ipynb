{
 "cells": [
  {
   "cell_type": "markdown",
   "id": "3b5dc9d6-3a9e-4911-8df8-68eeaf3b7de4",
   "metadata": {},
   "source": [
    "# Project Overview\n",
    "This project builds an ETL (Extract, Transform, Load) pipeline for Formula 1 race data using the FastF1 Python library. The pipeline automates the collection of race results, cleans and validates the dataset, and loads it into a SQLite database for analysis. Finally, the project runs an example SQL query to identify the Top 10 drivers by points in a selected Grand Prix event."
   ]
  },
  {
   "cell_type": "markdown",
   "id": "3fa1e4d4-aae2-4170-9b68-4c03d1590344",
   "metadata": {},
   "source": [
    "## Section 1: Installing Dependencies\n",
    "Using pip install fastf1 to install the FastF1 library, which provided a structured access to Formula 1 data.\n"
   ]
  },
  {
   "cell_type": "code",
   "execution_count": 3,
   "id": "11f73920-fb1d-4a8a-bdc9-77ce091ba8df",
   "metadata": {},
   "outputs": [
    {
     "name": "stdout",
     "output_type": "stream",
     "text": [
      "Requirement already satisfied: fastf1 in /opt/anaconda3/lib/python3.12/site-packages (3.6.0)\n",
      "Requirement already satisfied: matplotlib<4.0.0,>=3.5.1 in /opt/anaconda3/lib/python3.12/site-packages (from fastf1) (3.9.2)\n",
      "Requirement already satisfied: numpy<3.0.0,>=1.23.1 in /opt/anaconda3/lib/python3.12/site-packages (from fastf1) (1.26.4)\n",
      "Requirement already satisfied: pandas<3.0.0,>=1.4.1 in /opt/anaconda3/lib/python3.12/site-packages (from fastf1) (2.2.2)\n",
      "Requirement already satisfied: python-dateutil in /opt/anaconda3/lib/python3.12/site-packages (from fastf1) (2.9.0.post0)\n",
      "Requirement already satisfied: rapidfuzz in /opt/anaconda3/lib/python3.12/site-packages (from fastf1) (3.14.0)\n",
      "Requirement already satisfied: requests-cache>=1.0.0 in /opt/anaconda3/lib/python3.12/site-packages (from fastf1) (1.2.1)\n",
      "Requirement already satisfied: requests>=2.28.1 in /opt/anaconda3/lib/python3.12/site-packages (from fastf1) (2.32.3)\n",
      "Requirement already satisfied: scipy<2.0.0,>=1.8.1 in /opt/anaconda3/lib/python3.12/site-packages (from fastf1) (1.13.1)\n",
      "Requirement already satisfied: timple>=0.1.6 in /opt/anaconda3/lib/python3.12/site-packages (from fastf1) (0.1.8)\n",
      "Requirement already satisfied: websockets<14,>=10.3 in /opt/anaconda3/lib/python3.12/site-packages (from fastf1) (13.1)\n",
      "Requirement already satisfied: contourpy>=1.0.1 in /opt/anaconda3/lib/python3.12/site-packages (from matplotlib<4.0.0,>=3.5.1->fastf1) (1.2.0)\n",
      "Requirement already satisfied: cycler>=0.10 in /opt/anaconda3/lib/python3.12/site-packages (from matplotlib<4.0.0,>=3.5.1->fastf1) (0.11.0)\n",
      "Requirement already satisfied: fonttools>=4.22.0 in /opt/anaconda3/lib/python3.12/site-packages (from matplotlib<4.0.0,>=3.5.1->fastf1) (4.51.0)\n",
      "Requirement already satisfied: kiwisolver>=1.3.1 in /opt/anaconda3/lib/python3.12/site-packages (from matplotlib<4.0.0,>=3.5.1->fastf1) (1.4.4)\n",
      "Requirement already satisfied: packaging>=20.0 in /opt/anaconda3/lib/python3.12/site-packages (from matplotlib<4.0.0,>=3.5.1->fastf1) (25.0)\n",
      "Requirement already satisfied: pillow>=8 in /opt/anaconda3/lib/python3.12/site-packages (from matplotlib<4.0.0,>=3.5.1->fastf1) (10.4.0)\n",
      "Requirement already satisfied: pyparsing>=2.3.1 in /opt/anaconda3/lib/python3.12/site-packages (from matplotlib<4.0.0,>=3.5.1->fastf1) (3.1.2)\n",
      "Requirement already satisfied: pytz>=2020.1 in /opt/anaconda3/lib/python3.12/site-packages (from pandas<3.0.0,>=1.4.1->fastf1) (2024.1)\n",
      "Requirement already satisfied: tzdata>=2022.7 in /opt/anaconda3/lib/python3.12/site-packages (from pandas<3.0.0,>=1.4.1->fastf1) (2023.3)\n",
      "Requirement already satisfied: six>=1.5 in /opt/anaconda3/lib/python3.12/site-packages (from python-dateutil->fastf1) (1.16.0)\n",
      "Requirement already satisfied: charset-normalizer<4,>=2 in /opt/anaconda3/lib/python3.12/site-packages (from requests>=2.28.1->fastf1) (3.3.2)\n",
      "Requirement already satisfied: idna<4,>=2.5 in /opt/anaconda3/lib/python3.12/site-packages (from requests>=2.28.1->fastf1) (3.7)\n",
      "Requirement already satisfied: urllib3<3,>=1.21.1 in /opt/anaconda3/lib/python3.12/site-packages (from requests>=2.28.1->fastf1) (2.2.3)\n",
      "Requirement already satisfied: certifi>=2017.4.17 in /opt/anaconda3/lib/python3.12/site-packages (from requests>=2.28.1->fastf1) (2024.8.30)\n",
      "Requirement already satisfied: attrs>=21.2 in /opt/anaconda3/lib/python3.12/site-packages (from requests-cache>=1.0.0->fastf1) (25.3.0)\n",
      "Requirement already satisfied: cattrs>=22.2 in /opt/anaconda3/lib/python3.12/site-packages (from requests-cache>=1.0.0->fastf1) (25.1.1)\n",
      "Requirement already satisfied: platformdirs>=2.5 in /opt/anaconda3/lib/python3.12/site-packages (from requests-cache>=1.0.0->fastf1) (3.10.0)\n",
      "Requirement already satisfied: url-normalize>=1.4 in /opt/anaconda3/lib/python3.12/site-packages (from requests-cache>=1.0.0->fastf1) (2.2.1)\n",
      "Requirement already satisfied: typing-extensions>=4.12.2 in /opt/anaconda3/lib/python3.12/site-packages (from cattrs>=22.2->requests-cache>=1.0.0->fastf1) (4.15.0)\n",
      "Note: you may need to restart the kernel to use updated packages.\n"
     ]
    }
   ],
   "source": [
    "pip install fastf1\n"
   ]
  },
  {
   "cell_type": "markdown",
   "id": "77fc1577-6759-432a-8e0f-14713d5b1066",
   "metadata": {},
   "source": [
    "## Section 2: Configuring Data Caching\n",
    "To reduce repeated API requesnts and speedinf up the ETL pipleline, a local cache_folder was created.\n"
   ]
  },
  {
   "cell_type": "code",
   "execution_count": 12,
   "id": "b4ee0741-afb1-4d25-8626-73fb202641e4",
   "metadata": {},
   "outputs": [],
   "source": [
    "\n",
    "import os\n",
    "import fastf1\n",
    "\n",
    "# Create folder if it doesn't exist\n",
    "if not os.path.exists('cache_folder'):\n",
    "    os.makedirs('cache_folder')\n",
    "\n",
    "fastf1.Cache.enable_cache('cache_folder')"
   ]
  },
  {
   "cell_type": "markdown",
   "id": "4eb8b488-b3ca-467b-9d17-e1a91fa2309c",
   "metadata": {},
   "source": [
    "## Section 3: Building the ETL Pipeline\n",
    "In this step, the ETL pipeline was implemented. The pipeline performed the following tasks:\n",
    "Extract: Fetched Formula 1 race data using the FastF1 API.\n",
    "Transform: Cleaned and standardized the data.\n",
    "Load: Saved the cleaned data into a local SQLite database for structured storage.\n",
    "Analyzed: Queried the data for top 10 drivers by points."
   ]
  },
  {
   "cell_type": "code",
   "execution_count": 36,
   "id": "6362bd7c-735b-4c12-be08-1fd3d80b2c80",
   "metadata": {},
   "outputs": [],
   "source": [
    "import fastf1\n",
    "import pandas as pd\n",
    "import sqlite3\n",
    "import os\n",
    "\n",
    "# Enable caching \n",
    "if not os.path.exists(\"f1_cache\"):\n",
    "    os.makedirs(\"f1_cache\")\n",
    "fastf1.Cache.enable_cache(\"f1_cache\")\n",
    "\n",
    "\n",
    "# Simple Cleaning Functions\n",
    "\n",
    "def drop_nulls(df, columns):\n",
    "    \"\"\"Remove rows with missing values in selected columns.\"\"\"\n",
    "    return df.dropna(subset=columns)\n",
    "\n",
    "def convert_types(df, col_types):\n",
    "    \"\"\"Convert columns to a specific type (like int or float).\"\"\"\n",
    "    for col, dtype in col_types.items():\n",
    "        if col in df.columns:\n",
    "            df[col] = df[col].astype(dtype, errors=\"ignore\")\n",
    "    return df\n",
    "\n",
    "def strip_whitespace(df, columns):\n",
    "    \"\"\"Remove spaces before/after names or text.\"\"\"\n",
    "    for col in columns:\n",
    "        if col in df.columns:\n",
    "            df[col] = df[col].astype(str).str.strip()\n",
    "    return df\n",
    "\n",
    "def validate_data(df):\n",
    "    \"\"\"Quick checks on the data.\"\"\"\n",
    "    if \"points\" in df.columns:\n",
    "        negatives = (df[\"points\"] < 0).sum()\n",
    "        if negatives > 0:\n",
    "            print(f\"⚠ Found {negatives} negative points!\")\n",
    "    print(\"Validation complete\")\n",
    "\n",
    "\n",
    "# ETL Pipeline\n",
    "\n",
    "def etl_pipeline(year=2025, grand_prix=\"Silverstone\", session_type=\"R\"):\n",
    "    print(f\"Starting ETL for {grand_prix} {year}\")\n",
    "\n",
    "    # Extract\n",
    "    session = fastf1.get_session(year, grand_prix, session_type)\n",
    "    session.load(laps=False, telemetry=False)\n",
    "    df = session.results.copy()\n",
    "\n",
    "    # Transform\n",
    "    df.columns = [c.lower() for c in df.columns]\n",
    "    df = df.rename(columns={\n",
    "        \"broadcastname\": \"driver\",\n",
    "        \"teamname\": \"team\"\n",
    "    })\n",
    "\n",
    "    df = drop_nulls(df, [\"driver\", \"points\"])\n",
    "    df = convert_types(df, {\"points\": \"float\", \"position\": \"int\"})\n",
    "    df = strip_whitespace(df, [\"driver\", \"team\"])\n",
    "    validate_data(df)\n",
    "\n",
    "    # Load\n",
    "    conn = sqlite3.connect(\"f1_results.db\")\n",
    "    table_name = f\"{grand_prix.lower()}_{year}\"\n",
    "    df.to_sql(table_name, conn, if_exists=\"replace\", index=False)\n",
    "\n",
    "    # Query\n",
    "    query = f\"\"\"\n",
    "        SELECT driver, SUM(points) as total_points\n",
    "        FROM {table_name}\n",
    "        GROUP BY driver\n",
    "        ORDER BY total_points DESC\n",
    "        LIMIT 10\n",
    "    \"\"\"\n",
    "    top_drivers = pd.read_sql(query, conn)\n",
    "\n",
    "    conn.close()\n",
    "    print(\"ETL complete!\")\n",
    "\n",
    "    return df, top_drivers\n"
   ]
  },
  {
   "cell_type": "markdown",
   "id": "f2c0a10f-2a03-4000-a719-7d68905e7217",
   "metadata": {},
   "source": [
    "## Section 4: Running the pipleine\n"
   ]
  },
  {
   "cell_type": "code",
   "execution_count": 42,
   "id": "4a2a87e8-190b-4a6c-b52a-6b660daed09d",
   "metadata": {},
   "outputs": [
    {
     "name": "stderr",
     "output_type": "stream",
     "text": [
      "core           INFO \tLoading data for British Grand Prix - Race [v3.6.0]\n",
      "2025-08-29 19:36:57,056 - INFO - Loading data for British Grand Prix - Race [v3.6.0]\n",
      "req            INFO \tUsing cached data for session_info\n",
      "2025-08-29 19:36:57,059 - INFO - Using cached data for session_info\n",
      "req            INFO \tUsing cached data for driver_info\n",
      "2025-08-29 19:36:57,060 - INFO - Using cached data for driver_info\n",
      "req            INFO \tUsing cached data for weather_data\n",
      "2025-08-29 19:36:57,079 - INFO - Using cached data for weather_data\n",
      "req            INFO \tUsing cached data for race_control_messages\n",
      "2025-08-29 19:36:57,081 - INFO - Using cached data for race_control_messages\n",
      "core           INFO \tFinished loading data for 20 drivers: ['4', '81', '27', '44', '1', '10', '18', '23', '14', '63', '87', '55', '31', '16', '22', '12', '6', '5', '30', '43']\n",
      "2025-08-29 19:36:57,083 - INFO - Finished loading data for 20 drivers: ['4', '81', '27', '44', '1', '10', '18', '23', '14', '63', '87', '55', '31', '16', '22', '12', '6', '5', '30', '43']\n"
     ]
    },
    {
     "name": "stdout",
     "output_type": "stream",
     "text": [
      "Starting ETL for Silverstone 2025\n",
      "Validation complete\n",
      "ETL complete!\n",
      "         driver  total_points\n",
      "0      L NORRIS          25.0\n",
      "1     O PIASTRI          18.0\n",
      "2  N HULKENBERG          15.0\n",
      "3    L HAMILTON          12.0\n",
      "4  M VERSTAPPEN          10.0\n",
      "5       P GASLY           8.0\n",
      "6      L STROLL           6.0\n",
      "7       A ALBON           4.0\n",
      "8      F ALONSO           2.0\n",
      "9     G RUSSELL           1.0\n"
     ]
    },
    {
     "name": "stderr",
     "output_type": "stream",
     "text": [
      "/var/folders/_8/gzplx5cs0156hr34r3l9wzmc0000gn/T/ipykernel_10903/3871072654.py:66: UserWarning: the 'timedelta' type is not supported, and will be written as integer values (ns frequency) to the database.\n",
      "  df.to_sql(table_name, conn, if_exists=\"replace\", index=False)\n"
     ]
    }
   ],
   "source": [
    "\n",
    "if __name__ == \"__main__\":\n",
    "    df_clean, top_drivers = etl_pipeline(year=2025, grand_prix=\"Silverstone\")\n",
    "    print(top_drivers)\n",
    "    df_clean.to_csv(\"f1_british_gp_2025_cleaned.csv\", index=False)\n"
   ]
  },
  {
   "cell_type": "markdown",
   "id": "8551eca5-7e42-4532-9228-9c62580bbc21",
   "metadata": {},
   "source": [
    "## Section 5: Analyzing the data\n",
    "After loading the  data into a SQLite database, a simple SQL query was ran to find the top 10 drivers by total points in the race."
   ]
  },
  {
   "cell_type": "code",
   "execution_count": 46,
   "id": "75524067-762e-4869-9191-213ad6a4465a",
   "metadata": {},
   "outputs": [
    {
     "name": "stdout",
     "output_type": "stream",
     "text": [
      "         driver  total_points\n",
      "0      L NORRIS          25.0\n",
      "1     O PIASTRI          18.0\n",
      "2  N HULKENBERG          15.0\n",
      "3    L HAMILTON          12.0\n",
      "4  M VERSTAPPEN          10.0\n",
      "5       P GASLY           8.0\n",
      "6      L STROLL           6.0\n",
      "7       A ALBON           4.0\n",
      "8      F ALONSO           2.0\n",
      "9     G RUSSELL           1.0\n"
     ]
    }
   ],
   "source": [
    "# Connect to SQLite database \n",
    "conn = sqlite3.connect(\"f1_results.db\")\n",
    "\n",
    "# Run SQL query\n",
    "query = \"\"\"\n",
    "SELECT driver, SUM(points) AS total_points\n",
    "FROM silverstone_2025\n",
    "GROUP BY driver\n",
    "ORDER BY total_points DESC\n",
    "LIMIT 10;\n",
    "\"\"\"\n",
    "\n",
    "top_drivers = pd.read_sql_query(query, conn)\n",
    "print(top_drivers)\n",
    "\n",
    "conn.close()\n"
   ]
  }
 ],
 "metadata": {
  "kernelspec": {
   "display_name": "Python 3 (ipykernel)",
   "language": "python",
   "name": "python3"
  },
  "language_info": {
   "codemirror_mode": {
    "name": "ipython",
    "version": 3
   },
   "file_extension": ".py",
   "mimetype": "text/x-python",
   "name": "python",
   "nbconvert_exporter": "python",
   "pygments_lexer": "ipython3",
   "version": "3.12.7"
  }
 },
 "nbformat": 4,
 "nbformat_minor": 5
}
